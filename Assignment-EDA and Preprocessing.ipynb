{
 "cells": [
  {
   "cell_type": "markdown",
   "id": "99df4a87-2aaf-48c6-8f96-f9622abb9bd5",
   "metadata": {},
   "source": [
    "# Assignment- EDA and Preprocessing"
   ]
  },
  {
   "cell_type": "markdown",
   "id": "d600a8eb-fdab-444c-bf59-8e34e783385a",
   "metadata": {},
   "source": [
    "**Import Libraries**"
   ]
  },
  {
   "cell_type": "code",
   "execution_count": 2,
   "id": "a1953123-11e4-4e93-a392-7c1682eacdad",
   "metadata": {},
   "outputs": [],
   "source": [
    "import numpy as np\n",
    "import pandas as pd\n",
    "import matplotlib.pyplot as plt\n",
    "import seaborn as sns"
   ]
  },
  {
   "cell_type": "markdown",
   "id": "57ecd23e-47bd-4c38-bfc3-57f521f9afcd",
   "metadata": {},
   "source": [
    "**Load Data**"
   ]
  },
  {
   "cell_type": "code",
   "execution_count": 3,
   "id": "db1b6963-fbd6-4acd-b03f-718c31dc217d",
   "metadata": {},
   "outputs": [],
   "source": [
    "df = pd.read_csv('Employee.csv')"
   ]
  },
  {
   "cell_type": "markdown",
   "id": "c967ca40-a35a-471c-909d-5a6ad2b73672",
   "metadata": {},
   "source": [
    "### Data Exploration"
   ]
  },
  {
   "cell_type": "code",
   "execution_count": 32,
   "id": "e1a84a52-adbd-4664-b03e-eeef48f04b77",
   "metadata": {},
   "outputs": [
    {
     "data": {
      "text/html": [
       "<div>\n",
       "<style scoped>\n",
       "    .dataframe tbody tr th:only-of-type {\n",
       "        vertical-align: middle;\n",
       "    }\n",
       "\n",
       "    .dataframe tbody tr th {\n",
       "        vertical-align: top;\n",
       "    }\n",
       "\n",
       "    .dataframe thead th {\n",
       "        text-align: right;\n",
       "    }\n",
       "</style>\n",
       "<table border=\"1\" class=\"dataframe\">\n",
       "  <thead>\n",
       "    <tr style=\"text-align: right;\">\n",
       "      <th></th>\n",
       "      <th>Company</th>\n",
       "      <th>Age</th>\n",
       "      <th>Salary</th>\n",
       "      <th>City</th>\n",
       "      <th>Country</th>\n",
       "      <th>encoded_place</th>\n",
       "      <th>Gender_1</th>\n",
       "      <th>age</th>\n",
       "    </tr>\n",
       "  </thead>\n",
       "  <tbody>\n",
       "    <tr>\n",
       "      <th>0</th>\n",
       "      <td>TCS</td>\n",
       "      <td>0.370370</td>\n",
       "      <td>0.476518</td>\n",
       "      <td>Chennai</td>\n",
       "      <td>India</td>\n",
       "      <td>2</td>\n",
       "      <td>False</td>\n",
       "      <td>0.370370</td>\n",
       "    </tr>\n",
       "    <tr>\n",
       "      <th>1</th>\n",
       "      <td>Infosys</td>\n",
       "      <td>0.555556</td>\n",
       "      <td>0.476518</td>\n",
       "      <td>Mumbai</td>\n",
       "      <td>India</td>\n",
       "      <td>6</td>\n",
       "      <td>False</td>\n",
       "      <td>0.555556</td>\n",
       "    </tr>\n",
       "    <tr>\n",
       "      <th>2</th>\n",
       "      <td>TCS</td>\n",
       "      <td>0.648148</td>\n",
       "      <td>0.137817</td>\n",
       "      <td>Calcutta</td>\n",
       "      <td>India</td>\n",
       "      <td>1</td>\n",
       "      <td>False</td>\n",
       "      <td>0.648148</td>\n",
       "    </tr>\n",
       "    <tr>\n",
       "      <th>3</th>\n",
       "      <td>Infosys</td>\n",
       "      <td>0.740741</td>\n",
       "      <td>0.217480</td>\n",
       "      <td>Delhi</td>\n",
       "      <td>India</td>\n",
       "      <td>4</td>\n",
       "      <td>False</td>\n",
       "      <td>0.740741</td>\n",
       "    </tr>\n",
       "    <tr>\n",
       "      <th>4</th>\n",
       "      <td>TCS</td>\n",
       "      <td>0.425926</td>\n",
       "      <td>0.331285</td>\n",
       "      <td>Mumbai</td>\n",
       "      <td>India</td>\n",
       "      <td>6</td>\n",
       "      <td>False</td>\n",
       "      <td>0.425926</td>\n",
       "    </tr>\n",
       "  </tbody>\n",
       "</table>\n",
       "</div>"
      ],
      "text/plain": [
       "   Company       Age    Salary      City Country  encoded_place  Gender_1  \\\n",
       "0      TCS  0.370370  0.476518   Chennai   India              2     False   \n",
       "1  Infosys  0.555556  0.476518    Mumbai   India              6     False   \n",
       "2      TCS  0.648148  0.137817  Calcutta   India              1     False   \n",
       "3  Infosys  0.740741  0.217480     Delhi   India              4     False   \n",
       "4      TCS  0.425926  0.331285    Mumbai   India              6     False   \n",
       "\n",
       "        age  \n",
       "0  0.370370  \n",
       "1  0.555556  \n",
       "2  0.648148  \n",
       "3  0.740741  \n",
       "4  0.425926  "
      ]
     },
     "execution_count": 32,
     "metadata": {},
     "output_type": "execute_result"
    }
   ],
   "source": [
    "#Find the first 5 rows of the data table\n",
    "df.head()"
   ]
  },
  {
   "cell_type": "code",
   "execution_count": 13,
   "id": "f6251881-09f6-40a2-bf14-74f93c81097f",
   "metadata": {},
   "outputs": [
    {
     "name": "stdout",
     "output_type": "stream",
     "text": [
      "<class 'pandas.core.frame.DataFrame'>\n",
      "RangeIndex: 148 entries, 0 to 147\n",
      "Data columns (total 6 columns):\n",
      " #   Column   Non-Null Count  Dtype  \n",
      "---  ------   --------------  -----  \n",
      " 0   Company  140 non-null    object \n",
      " 1   Age      130 non-null    float64\n",
      " 2   Salary   124 non-null    float64\n",
      " 3   Place    134 non-null    object \n",
      " 4   Country  148 non-null    object \n",
      " 5   Gender   148 non-null    int64  \n",
      "dtypes: float64(2), int64(1), object(3)\n",
      "memory usage: 7.1+ KB\n"
     ]
    }
   ],
   "source": [
    "#Get the basic information about all the coloumns\n",
    "df.info()"
   ]
  },
  {
   "cell_type": "code",
   "execution_count": 14,
   "id": "e457176c-712a-4389-ad3a-4fe38c7ec35d",
   "metadata": {},
   "outputs": [
    {
     "data": {
      "text/html": [
       "<div>\n",
       "<style scoped>\n",
       "    .dataframe tbody tr th:only-of-type {\n",
       "        vertical-align: middle;\n",
       "    }\n",
       "\n",
       "    .dataframe tbody tr th {\n",
       "        vertical-align: top;\n",
       "    }\n",
       "\n",
       "    .dataframe thead th {\n",
       "        text-align: right;\n",
       "    }\n",
       "</style>\n",
       "<table border=\"1\" class=\"dataframe\">\n",
       "  <thead>\n",
       "    <tr style=\"text-align: right;\">\n",
       "      <th></th>\n",
       "      <th>Age</th>\n",
       "      <th>Salary</th>\n",
       "      <th>Gender</th>\n",
       "    </tr>\n",
       "  </thead>\n",
       "  <tbody>\n",
       "    <tr>\n",
       "      <th>count</th>\n",
       "      <td>130.000000</td>\n",
       "      <td>124.000000</td>\n",
       "      <td>148.000000</td>\n",
       "    </tr>\n",
       "    <tr>\n",
       "      <th>mean</th>\n",
       "      <td>30.484615</td>\n",
       "      <td>5312.467742</td>\n",
       "      <td>0.222973</td>\n",
       "    </tr>\n",
       "    <tr>\n",
       "      <th>std</th>\n",
       "      <td>11.096640</td>\n",
       "      <td>2573.764683</td>\n",
       "      <td>0.417654</td>\n",
       "    </tr>\n",
       "    <tr>\n",
       "      <th>min</th>\n",
       "      <td>0.000000</td>\n",
       "      <td>1089.000000</td>\n",
       "      <td>0.000000</td>\n",
       "    </tr>\n",
       "    <tr>\n",
       "      <th>25%</th>\n",
       "      <td>22.000000</td>\n",
       "      <td>3030.000000</td>\n",
       "      <td>0.000000</td>\n",
       "    </tr>\n",
       "    <tr>\n",
       "      <th>50%</th>\n",
       "      <td>32.500000</td>\n",
       "      <td>5000.000000</td>\n",
       "      <td>0.000000</td>\n",
       "    </tr>\n",
       "    <tr>\n",
       "      <th>75%</th>\n",
       "      <td>37.750000</td>\n",
       "      <td>8000.000000</td>\n",
       "      <td>0.000000</td>\n",
       "    </tr>\n",
       "    <tr>\n",
       "      <th>max</th>\n",
       "      <td>54.000000</td>\n",
       "      <td>9876.000000</td>\n",
       "      <td>1.000000</td>\n",
       "    </tr>\n",
       "  </tbody>\n",
       "</table>\n",
       "</div>"
      ],
      "text/plain": [
       "              Age       Salary      Gender\n",
       "count  130.000000   124.000000  148.000000\n",
       "mean    30.484615  5312.467742    0.222973\n",
       "std     11.096640  2573.764683    0.417654\n",
       "min      0.000000  1089.000000    0.000000\n",
       "25%     22.000000  3030.000000    0.000000\n",
       "50%     32.500000  5000.000000    0.000000\n",
       "75%     37.750000  8000.000000    0.000000\n",
       "max     54.000000  9876.000000    1.000000"
      ]
     },
     "execution_count": 14,
     "metadata": {},
     "output_type": "execute_result"
    }
   ],
   "source": [
    "#Check basic statisticss of the data\n",
    "df.describe()"
   ]
  },
  {
   "cell_type": "code",
   "execution_count": 8,
   "id": "4bf11051-3100-4d9b-8cb4-e6a0eb68861e",
   "metadata": {},
   "outputs": [
    {
     "data": {
      "text/plain": [
       "(148, 6)"
      ]
     },
     "execution_count": 8,
     "metadata": {},
     "output_type": "execute_result"
    }
   ],
   "source": [
    "df.shape"
   ]
  },
  {
   "cell_type": "code",
   "execution_count": 11,
   "id": "4e1e8e83-59e0-49a2-a26f-cb98f98e5ce5",
   "metadata": {},
   "outputs": [
    {
     "name": "stdout",
     "output_type": "stream",
     "text": [
      "Unique values in Company: ['TCS' 'Infosys' 'CTS' nan 'Tata Consultancy Services' 'Congnizant'\n",
      " 'Infosys Pvt Lmt']\n",
      "Length of unique values in Company: 7\n",
      "\n",
      "\n",
      "Unique values in Age: [20. 30. 35. 40. 23. nan 34. 45. 18. 22. 32. 37. 50. 21. 46. 36. 26. 41.\n",
      " 24. 25. 43. 19. 38. 51. 31. 44. 33. 17.  0. 54.]\n",
      "Length of unique values in Age: 30\n",
      "\n",
      "\n",
      "Unique values in Salary: [  nan 2300. 3000. 4000. 5000. 6000. 7000. 8000. 9000. 1089. 1234. 3030.\n",
      " 3045. 3184. 4824. 5835. 7084. 8943. 8345. 9284. 9876. 2034. 7654. 2934.\n",
      " 4034. 5034. 8202. 9024. 4345. 6544. 6543. 3234. 4324. 5435. 5555. 8787.\n",
      " 3454. 5654. 5009. 5098. 3033.]\n",
      "Length of unique values in Salary: 41\n",
      "\n",
      "\n",
      "Unique values in Place: ['Chennai' 'Mumbai' 'Calcutta' 'Delhi' 'Podicherry' 'Cochin' nan 'Noida'\n",
      " 'Hyderabad' 'Bhopal' 'Nagpur' 'Pune']\n",
      "Length of unique values in Place: 12\n",
      "\n",
      "\n",
      "Unique values in Country: ['India']\n",
      "Length of unique values in Country: 1\n",
      "\n",
      "\n",
      "Unique values in Gender: [0 1]\n",
      "Length of unique values in Gender: 2\n",
      "\n",
      "\n"
     ]
    }
   ],
   "source": [
    "# Get the unique values and their length for each feature\n",
    "for column in df.columns:\n",
    "    print(f\"Unique values in {column}: {df[column].unique()}\")\n",
    "    print(f\"Length of unique values in {column}: {len(df[column].unique())}\")\n",
    "    print(\"\\n\")"
   ]
  },
  {
   "cell_type": "markdown",
   "id": "17cbada5-e2b4-4230-862e-d1094008530a",
   "metadata": {},
   "source": [
    "#### Statistical analysis and renaming of the coloumns"
   ]
  },
  {
   "cell_type": "code",
   "execution_count": 17,
   "id": "32d1112f-f5ae-40f7-bf97-23bb75796324",
   "metadata": {},
   "outputs": [
    {
     "name": "stdout",
     "output_type": "stream",
     "text": [
      "              Age       Salary      Gender\n",
      "count  130.000000   124.000000  148.000000\n",
      "mean    30.484615  5312.467742    0.222973\n",
      "std     11.096640  2573.764683    0.417654\n",
      "min      0.000000  1089.000000    0.000000\n",
      "25%     22.000000  3030.000000    0.000000\n",
      "50%     32.500000  5000.000000    0.000000\n",
      "75%     37.750000  8000.000000    0.000000\n",
      "max     54.000000  9876.000000    1.000000\n"
     ]
    }
   ],
   "source": [
    "df.rename(columns={'Place': 'City'}, inplace=True)\n",
    "\n",
    "# Check for statistical analysis\n",
    "print(df.describe())"
   ]
  },
  {
   "cell_type": "markdown",
   "id": "0658a9fe-5bdf-47cb-a700-03f3ac231ed2",
   "metadata": {},
   "source": [
    "### Data Cleaning"
   ]
  },
  {
   "cell_type": "markdown",
   "id": "c75ada5b-8e83-4180-b397-cc4f22ddb069",
   "metadata": {},
   "source": [
    "#### Check missing for values and handle them"
   ]
  },
  {
   "cell_type": "code",
   "execution_count": 18,
   "id": "3237bcf4-1547-4ff6-97e9-8ed1fd0bc173",
   "metadata": {},
   "outputs": [
    {
     "name": "stdout",
     "output_type": "stream",
     "text": [
      "Company     8\n",
      "Age        18\n",
      "Salary     24\n",
      "City       14\n",
      "Country     0\n",
      "Gender      0\n",
      "dtype: int64\n"
     ]
    }
   ],
   "source": [
    "print(df.isnull().sum())"
   ]
  },
  {
   "cell_type": "markdown",
   "id": "344a78b0-9155-4bac-ba6a-44c54778f809",
   "metadata": {},
   "source": [
    "There are many null values in the dataset, which needs to be filled"
   ]
  },
  {
   "cell_type": "code",
   "execution_count": null,
   "id": "982641d3-4a3d-4592-b6a5-c7cd3fc14103",
   "metadata": {},
   "outputs": [],
   "source": [
    "df.dropna(subset=['Company'], inplace=True) # Dropping rows with missing values in the company coloumn\n",
    "df['Age'].fillna(df['Age'].mean(), inplace=True) #Replacing null values with mean\n",
    "df['Salary'].fillna(df['Salary'].mean(), inplace=True) #Replacing null values with mean\n",
    "df['City'].fillna(df['Salary'].mode(), inplace=True)"
   ]
  },
  {
   "cell_type": "markdown",
   "id": "c3efd053-26c2-4e5e-a094-e2b989b2e9ac",
   "metadata": {},
   "source": [
    "Ensure that the null values are removed"
   ]
  },
  {
   "cell_type": "code",
   "execution_count": 21,
   "id": "e5b35769-ed4d-4feb-b1db-baf310b9ba56",
   "metadata": {},
   "outputs": [
    {
     "name": "stdout",
     "output_type": "stream",
     "text": [
      "Company     0\n",
      "Age         0\n",
      "Salary      0\n",
      "City       13\n",
      "Country     0\n",
      "Gender      0\n",
      "dtype: int64\n"
     ]
    }
   ],
   "source": [
    "print(df.isnull().sum())"
   ]
  },
  {
   "cell_type": "markdown",
   "id": "c10b0f45-9a79-49e9-b63f-2214985a9a4e",
   "metadata": {},
   "source": [
    "#### Remove Duplicates"
   ]
  },
  {
   "cell_type": "code",
   "execution_count": 33,
   "id": "fef43846-9bba-46e2-ac8b-1c8e6e0aae14",
   "metadata": {},
   "outputs": [],
   "source": [
    "# Remove duplicate rows\n",
    "df.drop_duplicates(inplace=True)"
   ]
  },
  {
   "cell_type": "markdown",
   "id": "f13a1228-55e5-4112-8a7d-868e61672896",
   "metadata": {},
   "source": [
    "### Data Analysis"
   ]
  },
  {
   "cell_type": "markdown",
   "id": "12f4902a-e92d-456e-928c-50fa9b606e46",
   "metadata": {},
   "source": [
    "#### Filter the data with age >40 and salary<5000"
   ]
  },
  {
   "cell_type": "code",
   "execution_count": 23,
   "id": "e8fa68b0-dd48-4b96-a8c8-a364a60e98f9",
   "metadata": {},
   "outputs": [
    {
     "name": "stdout",
     "output_type": "stream",
     "text": [
      "     Company   Age  Salary       City Country  Gender\n",
      "21   Infosys  50.0  3184.0      Delhi   India       0\n",
      "32   Infosys  45.0  4034.0   Calcutta   India       0\n",
      "39   Infosys  41.0  3000.0     Mumbai   India       0\n",
      "50   Infosys  41.0  3000.0    Chennai   India       0\n",
      "57   Infosys  51.0  3184.0  Hyderabad   India       0\n",
      "68   Infosys  43.0  4034.0     Mumbai   India       0\n",
      "75   Infosys  44.0  3000.0     Cochin   India       0\n",
      "86   Infosys  41.0  3000.0      Delhi   India       0\n",
      "93   Infosys  54.0  3184.0     Mumbai   India       0\n",
      "104  Infosys  44.0  4034.0      Delhi   India       0\n",
      "122  Infosys  44.0  3234.0     Mumbai   India       0\n",
      "129  Infosys  50.0  3184.0   Calcutta   India       0\n",
      "138      CTS  44.0  3033.0     Cochin   India       0\n",
      "140  Infosys  44.0  4034.0  Hyderabad   India       0\n",
      "145  Infosys  44.0  4034.0      Delhi   India       1\n"
     ]
    }
   ],
   "source": [
    "filtered_data = df[(df['Age'] > 40) & (df['Salary'] < 5000)]\n",
    "print(filtered_data)"
   ]
  },
  {
   "cell_type": "markdown",
   "id": "8320c27b-d8ae-4fc8-97f2-43e6856f906b",
   "metadata": {},
   "source": [
    "#### Plot the chart with age and salary"
   ]
  },
  {
   "cell_type": "code",
   "execution_count": 25,
   "id": "7f1cdbed-b78a-4d11-8e6b-ced512ce144d",
   "metadata": {},
   "outputs": [
    {
     "data": {
      "image/png": "[encoded data removed]",
      "text/plain": [
       "<Figure size 800x600 with 1 Axes>"
      ]
     },
     "metadata": {},
     "output_type": "display_data"
    }
   ],
   "source": [
    "# Plotting Age vs Salary\n",
    "plt.figure(figsize=(8, 6))\n",
    "sns.scatterplot(x='Age', y='Salary', data=df)\n",
    "plt.title('Age vs Salary')\n",
    "plt.xlabel('Age')\n",
    "plt.ylabel('Salary')\n",
    "plt.show()"
   ]
  },
  {
   "cell_type": "markdown",
   "id": "5eace440-a255-4b72-b65c-c1eaa4461477",
   "metadata": {},
   "source": [
    "#### Count the number of people from each place and represent it visually"
   ]
  },
  {
   "cell_type": "code",
   "execution_count": 26,
   "id": "422a613d-f027-4c82-8d05-65a052423ea0",
   "metadata": {},
   "outputs": [
    {
     "data": {
      "image/png": "[encoded data removed]",
      "text/plain": [
       "<Figure size 800x600 with 1 Axes>"
      ]
     },
     "metadata": {},
     "output_type": "display_data"
    }
   ],
   "source": [
    "place_count = df['City'].value_counts()\n",
    "\n",
    "# Plotting the count of people from each place\n",
    "plt.figure(figsize=(8, 6))\n",
    "sns.barplot(x=place_count.index, y=place_count.values)\n",
    "plt.title('Count of People from Each Place')\n",
    "plt.xlabel('Place')\n",
    "plt.ylabel('Count')\n",
    "plt.xticks(rotation=90)\n",
    "plt.show()\n"
   ]
  },
  {
   "cell_type": "markdown",
   "id": "20dfc343-7f4d-427b-9713-d5f0f9160b45",
   "metadata": {},
   "source": [
    "### Data Encoding"
   ]
  },
  {
   "cell_type": "markdown",
   "id": "af5c26d2-c6fe-47fa-a0e6-62e06a921b11",
   "metadata": {},
   "source": [
    "#### Convert categorical variables into numerical representations using techniques like One-Hot Encoding and Label Encoding"
   ]
  },
  {
   "cell_type": "code",
   "execution_count": 27,
   "id": "74b51d96-9029-4086-8e84-170fd520bdf1",
   "metadata": {},
   "outputs": [],
   "source": [
    "from sklearn.preprocessing import LabelEncoder\n",
    "\n",
    "# Label encoding\n",
    "label_encoder = LabelEncoder()\n",
    "df['encoded_place'] = label_encoder.fit_transform(df['City'])\n",
    "\n",
    "# One-Hot Encoding\n",
    "df = pd.get_dummies(df, columns=['Gender'], drop_first=True)"
   ]
  },
  {
   "cell_type": "code",
   "execution_count": 28,
   "id": "66e4c8d2-575b-45dc-8efa-63c30a8a7763",
   "metadata": {},
   "outputs": [
    {
     "data": {
      "text/html": [
       "<div>\n",
       "<style scoped>\n",
       "    .dataframe tbody tr th:only-of-type {\n",
       "        vertical-align: middle;\n",
       "    }\n",
       "\n",
       "    .dataframe tbody tr th {\n",
       "        vertical-align: top;\n",
       "    }\n",
       "\n",
       "    .dataframe thead th {\n",
       "        text-align: right;\n",
       "    }\n",
       "</style>\n",
       "<table border=\"1\" class=\"dataframe\">\n",
       "  <thead>\n",
       "    <tr style=\"text-align: right;\">\n",
       "      <th></th>\n",
       "      <th>Company</th>\n",
       "      <th>Age</th>\n",
       "      <th>Salary</th>\n",
       "      <th>City</th>\n",
       "      <th>Country</th>\n",
       "      <th>encoded_place</th>\n",
       "      <th>Gender_1</th>\n",
       "    </tr>\n",
       "  </thead>\n",
       "  <tbody>\n",
       "    <tr>\n",
       "      <th>0</th>\n",
       "      <td>TCS</td>\n",
       "      <td>20.0</td>\n",
       "      <td>5276.159664</td>\n",
       "      <td>Chennai</td>\n",
       "      <td>India</td>\n",
       "      <td>2</td>\n",
       "      <td>False</td>\n",
       "    </tr>\n",
       "    <tr>\n",
       "      <th>1</th>\n",
       "      <td>Infosys</td>\n",
       "      <td>30.0</td>\n",
       "      <td>5276.159664</td>\n",
       "      <td>Mumbai</td>\n",
       "      <td>India</td>\n",
       "      <td>6</td>\n",
       "      <td>False</td>\n",
       "    </tr>\n",
       "    <tr>\n",
       "      <th>2</th>\n",
       "      <td>TCS</td>\n",
       "      <td>35.0</td>\n",
       "      <td>2300.000000</td>\n",
       "      <td>Calcutta</td>\n",
       "      <td>India</td>\n",
       "      <td>1</td>\n",
       "      <td>False</td>\n",
       "    </tr>\n",
       "    <tr>\n",
       "      <th>3</th>\n",
       "      <td>Infosys</td>\n",
       "      <td>40.0</td>\n",
       "      <td>3000.000000</td>\n",
       "      <td>Delhi</td>\n",
       "      <td>India</td>\n",
       "      <td>4</td>\n",
       "      <td>False</td>\n",
       "    </tr>\n",
       "    <tr>\n",
       "      <th>4</th>\n",
       "      <td>TCS</td>\n",
       "      <td>23.0</td>\n",
       "      <td>4000.000000</td>\n",
       "      <td>Mumbai</td>\n",
       "      <td>India</td>\n",
       "      <td>6</td>\n",
       "      <td>False</td>\n",
       "    </tr>\n",
       "    <tr>\n",
       "      <th>...</th>\n",
       "      <td>...</td>\n",
       "      <td>...</td>\n",
       "      <td>...</td>\n",
       "      <td>...</td>\n",
       "      <td>...</td>\n",
       "      <td>...</td>\n",
       "      <td>...</td>\n",
       "    </tr>\n",
       "    <tr>\n",
       "      <th>143</th>\n",
       "      <td>TCS</td>\n",
       "      <td>33.0</td>\n",
       "      <td>9024.000000</td>\n",
       "      <td>Calcutta</td>\n",
       "      <td>India</td>\n",
       "      <td>1</td>\n",
       "      <td>True</td>\n",
       "    </tr>\n",
       "    <tr>\n",
       "      <th>144</th>\n",
       "      <td>Infosys</td>\n",
       "      <td>22.0</td>\n",
       "      <td>8787.000000</td>\n",
       "      <td>Calcutta</td>\n",
       "      <td>India</td>\n",
       "      <td>1</td>\n",
       "      <td>True</td>\n",
       "    </tr>\n",
       "    <tr>\n",
       "      <th>145</th>\n",
       "      <td>Infosys</td>\n",
       "      <td>44.0</td>\n",
       "      <td>4034.000000</td>\n",
       "      <td>Delhi</td>\n",
       "      <td>India</td>\n",
       "      <td>4</td>\n",
       "      <td>True</td>\n",
       "    </tr>\n",
       "    <tr>\n",
       "      <th>146</th>\n",
       "      <td>TCS</td>\n",
       "      <td>33.0</td>\n",
       "      <td>5034.000000</td>\n",
       "      <td>Mumbai</td>\n",
       "      <td>India</td>\n",
       "      <td>6</td>\n",
       "      <td>True</td>\n",
       "    </tr>\n",
       "    <tr>\n",
       "      <th>147</th>\n",
       "      <td>Infosys</td>\n",
       "      <td>22.0</td>\n",
       "      <td>8202.000000</td>\n",
       "      <td>Cochin</td>\n",
       "      <td>India</td>\n",
       "      <td>3</td>\n",
       "      <td>False</td>\n",
       "    </tr>\n",
       "  </tbody>\n",
       "</table>\n",
       "<p>140 rows × 7 columns</p>\n",
       "</div>"
      ],
      "text/plain": [
       "     Company   Age       Salary      City Country  encoded_place  Gender_1\n",
       "0        TCS  20.0  5276.159664   Chennai   India              2     False\n",
       "1    Infosys  30.0  5276.159664    Mumbai   India              6     False\n",
       "2        TCS  35.0  2300.000000  Calcutta   India              1     False\n",
       "3    Infosys  40.0  3000.000000     Delhi   India              4     False\n",
       "4        TCS  23.0  4000.000000    Mumbai   India              6     False\n",
       "..       ...   ...          ...       ...     ...            ...       ...\n",
       "143      TCS  33.0  9024.000000  Calcutta   India              1      True\n",
       "144  Infosys  22.0  8787.000000  Calcutta   India              1      True\n",
       "145  Infosys  44.0  4034.000000     Delhi   India              4      True\n",
       "146      TCS  33.0  5034.000000    Mumbai   India              6      True\n",
       "147  Infosys  22.0  8202.000000    Cochin   India              3     False\n",
       "\n",
       "[140 rows x 7 columns]"
      ]
     },
     "execution_count": 28,
     "metadata": {},
     "output_type": "execute_result"
    }
   ],
   "source": [
    "df"
   ]
  },
  {
   "cell_type": "markdown",
   "id": "5f4bba6f-3572-4186-9018-d0bb8c2f92fe",
   "metadata": {},
   "source": [
    "### Feature Scaling"
   ]
  },
  {
   "cell_type": "code",
   "execution_count": 30,
   "id": "ee90633d-c619-44da-8cc1-166c83e55ae6",
   "metadata": {},
   "outputs": [],
   "source": [
    "from sklearn.preprocessing import StandardScaler, MinMaxScaler\n",
    "\n",
    "# Standard Scaler (Standardization)\n",
    "scaler = StandardScaler()\n",
    "df[['Age', 'Salary']] = scaler.fit_transform(df[['Age', 'Salary']])\n",
    "\n",
    "# Min-Max Scaler (Normalization)\n",
    "min_max_scaler = MinMaxScaler()\n",
    "df[['Age', 'Salary']] = min_max_scaler.fit_transform(df[['Age', 'Salary']])\n"
   ]
  },
  {
   "cell_type": "code",
   "execution_count": 31,
   "id": "0f6a9be4-80ff-4e7a-9253-a555ea000ada",
   "metadata": {},
   "outputs": [
    {
     "data": {
      "text/html": [
       "<div>\n",
       "<style scoped>\n",
       "    .dataframe tbody tr th:only-of-type {\n",
       "        vertical-align: middle;\n",
       "    }\n",
       "\n",
       "    .dataframe tbody tr th {\n",
       "        vertical-align: top;\n",
       "    }\n",
       "\n",
       "    .dataframe thead th {\n",
       "        text-align: right;\n",
       "    }\n",
       "</style>\n",
       "<table border=\"1\" class=\"dataframe\">\n",
       "  <thead>\n",
       "    <tr style=\"text-align: right;\">\n",
       "      <th></th>\n",
       "      <th>Company</th>\n",
       "      <th>Age</th>\n",
       "      <th>Salary</th>\n",
       "      <th>City</th>\n",
       "      <th>Country</th>\n",
       "      <th>encoded_place</th>\n",
       "      <th>Gender_1</th>\n",
       "      <th>age</th>\n",
       "    </tr>\n",
       "  </thead>\n",
       "  <tbody>\n",
       "    <tr>\n",
       "      <th>0</th>\n",
       "      <td>TCS</td>\n",
       "      <td>0.370370</td>\n",
       "      <td>0.476518</td>\n",
       "      <td>Chennai</td>\n",
       "      <td>India</td>\n",
       "      <td>2</td>\n",
       "      <td>False</td>\n",
       "      <td>0.370370</td>\n",
       "    </tr>\n",
       "    <tr>\n",
       "      <th>1</th>\n",
       "      <td>Infosys</td>\n",
       "      <td>0.555556</td>\n",
       "      <td>0.476518</td>\n",
       "      <td>Mumbai</td>\n",
       "      <td>India</td>\n",
       "      <td>6</td>\n",
       "      <td>False</td>\n",
       "      <td>0.555556</td>\n",
       "    </tr>\n",
       "    <tr>\n",
       "      <th>2</th>\n",
       "      <td>TCS</td>\n",
       "      <td>0.648148</td>\n",
       "      <td>0.137817</td>\n",
       "      <td>Calcutta</td>\n",
       "      <td>India</td>\n",
       "      <td>1</td>\n",
       "      <td>False</td>\n",
       "      <td>0.648148</td>\n",
       "    </tr>\n",
       "    <tr>\n",
       "      <th>3</th>\n",
       "      <td>Infosys</td>\n",
       "      <td>0.740741</td>\n",
       "      <td>0.217480</td>\n",
       "      <td>Delhi</td>\n",
       "      <td>India</td>\n",
       "      <td>4</td>\n",
       "      <td>False</td>\n",
       "      <td>0.740741</td>\n",
       "    </tr>\n",
       "    <tr>\n",
       "      <th>4</th>\n",
       "      <td>TCS</td>\n",
       "      <td>0.425926</td>\n",
       "      <td>0.331285</td>\n",
       "      <td>Mumbai</td>\n",
       "      <td>India</td>\n",
       "      <td>6</td>\n",
       "      <td>False</td>\n",
       "      <td>0.425926</td>\n",
       "    </tr>\n",
       "    <tr>\n",
       "      <th>...</th>\n",
       "      <td>...</td>\n",
       "      <td>...</td>\n",
       "      <td>...</td>\n",
       "      <td>...</td>\n",
       "      <td>...</td>\n",
       "      <td>...</td>\n",
       "      <td>...</td>\n",
       "      <td>...</td>\n",
       "    </tr>\n",
       "    <tr>\n",
       "      <th>143</th>\n",
       "      <td>TCS</td>\n",
       "      <td>0.611111</td>\n",
       "      <td>0.903039</td>\n",
       "      <td>Calcutta</td>\n",
       "      <td>India</td>\n",
       "      <td>1</td>\n",
       "      <td>True</td>\n",
       "      <td>0.611111</td>\n",
       "    </tr>\n",
       "    <tr>\n",
       "      <th>144</th>\n",
       "      <td>Infosys</td>\n",
       "      <td>0.407407</td>\n",
       "      <td>0.876067</td>\n",
       "      <td>Calcutta</td>\n",
       "      <td>India</td>\n",
       "      <td>1</td>\n",
       "      <td>True</td>\n",
       "      <td>0.407407</td>\n",
       "    </tr>\n",
       "    <tr>\n",
       "      <th>145</th>\n",
       "      <td>Infosys</td>\n",
       "      <td>0.814815</td>\n",
       "      <td>0.335154</td>\n",
       "      <td>Delhi</td>\n",
       "      <td>India</td>\n",
       "      <td>4</td>\n",
       "      <td>True</td>\n",
       "      <td>0.814815</td>\n",
       "    </tr>\n",
       "    <tr>\n",
       "      <th>146</th>\n",
       "      <td>TCS</td>\n",
       "      <td>0.611111</td>\n",
       "      <td>0.448959</td>\n",
       "      <td>Mumbai</td>\n",
       "      <td>India</td>\n",
       "      <td>6</td>\n",
       "      <td>True</td>\n",
       "      <td>0.611111</td>\n",
       "    </tr>\n",
       "    <tr>\n",
       "      <th>147</th>\n",
       "      <td>Infosys</td>\n",
       "      <td>0.407407</td>\n",
       "      <td>0.809491</td>\n",
       "      <td>Cochin</td>\n",
       "      <td>India</td>\n",
       "      <td>3</td>\n",
       "      <td>False</td>\n",
       "      <td>0.407407</td>\n",
       "    </tr>\n",
       "  </tbody>\n",
       "</table>\n",
       "<p>140 rows × 8 columns</p>\n",
       "</div>"
      ],
      "text/plain": [
       "     Company       Age    Salary      City Country  encoded_place  Gender_1  \\\n",
       "0        TCS  0.370370  0.476518   Chennai   India              2     False   \n",
       "1    Infosys  0.555556  0.476518    Mumbai   India              6     False   \n",
       "2        TCS  0.648148  0.137817  Calcutta   India              1     False   \n",
       "3    Infosys  0.740741  0.217480     Delhi   India              4     False   \n",
       "4        TCS  0.425926  0.331285    Mumbai   India              6     False   \n",
       "..       ...       ...       ...       ...     ...            ...       ...   \n",
       "143      TCS  0.611111  0.903039  Calcutta   India              1      True   \n",
       "144  Infosys  0.407407  0.876067  Calcutta   India              1      True   \n",
       "145  Infosys  0.814815  0.335154     Delhi   India              4      True   \n",
       "146      TCS  0.611111  0.448959    Mumbai   India              6      True   \n",
       "147  Infosys  0.407407  0.809491    Cochin   India              3     False   \n",
       "\n",
       "          age  \n",
       "0    0.370370  \n",
       "1    0.555556  \n",
       "2    0.648148  \n",
       "3    0.740741  \n",
       "4    0.425926  \n",
       "..        ...  \n",
       "143  0.611111  \n",
       "144  0.407407  \n",
       "145  0.814815  \n",
       "146  0.611111  \n",
       "147  0.407407  \n",
       "\n",
       "[140 rows x 8 columns]"
      ]
     },
     "execution_count": 31,
     "metadata": {},
     "output_type": "execute_result"
    }
   ],
   "source": [
    "df"
   ]
  }
 ],
 "metadata": {
  "kernelspec": {
   "display_name": "Python 3 (ipykernel)",
   "language": "python",
   "name": "python3"
  },
  "language_info": {
   "codemirror_mode": {
    "name": "ipython",
    "version": 3
   },
   "file_extension": ".py",
   "mimetype": "text/x-python",
   "name": "python",
   "nbconvert_exporter": "python",
   "pygments_lexer": "ipython3",
   "version": "3.12.4"
  }
 },
 "nbformat": 4,
 "nbformat_minor": 5
}
